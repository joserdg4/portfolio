# Proyecto 1 Python
print('Proyectos 1 Python')
